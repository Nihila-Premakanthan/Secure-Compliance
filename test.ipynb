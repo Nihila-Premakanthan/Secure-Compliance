{
 "cells": [
  {
   "cell_type": "code",
   "execution_count": 4,
   "metadata": {},
   "outputs": [
    {
     "name": "stdout",
     "output_type": "stream",
     "text": [
      "Password strength: Strong\n"
     ]
    }
   ],
   "source": [
    "import joblib\n",
    "\n",
    "# Load the model and label encoder\n",
    "model = joblib.load('password_strength_model.joblib')\n",
    "label_encoder = joblib.load('label_encoder.joblib')\n",
    "\n",
    "# Ask for password input from the user\n",
    "password = input(\"Enter the password to check its strength: \")\n",
    "\n",
    "# Predict the strength\n",
    "strength_level_num = model.predict([password])[0]\n",
    "strength_level = label_encoder.inverse_transform([strength_level_num])[0]\n",
    "\n",
    "# Output the result\n",
    "print(f\"Password strength: {strength_level}\")"
   ]
  }
 ],
 "metadata": {
  "kernelspec": {
   "display_name": "Python 3",
   "language": "python",
   "name": "python3"
  },
  "language_info": {
   "codemirror_mode": {
    "name": "ipython",
    "version": 3
   },
   "file_extension": ".py",
   "mimetype": "text/x-python",
   "name": "python",
   "nbconvert_exporter": "python",
   "pygments_lexer": "ipython3",
   "version": "3.12.0"
  }
 },
 "nbformat": 4,
 "nbformat_minor": 2
}
