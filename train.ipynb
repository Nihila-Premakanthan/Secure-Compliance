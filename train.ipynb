{
 "cells": [
  {
   "cell_type": "code",
   "execution_count": 3,
   "metadata": {},
   "outputs": [
    {
     "name": "stdout",
     "output_type": "stream",
     "text": [
      "Model training complete and saved as 'password_strength_model.joblib' and 'label_encoder.joblib'\n",
      "The password strength is: Strong\n"
     ]
    }
   ],
   "source": [
    "import pandas as pd\n",
    "from sklearn.feature_extraction.text import TfidfVectorizer\n",
    "from sklearn.ensemble import RandomForestClassifier\n",
    "from sklearn.pipeline import make_pipeline\n",
    "from sklearn.preprocessing import LabelEncoder\n",
    "import joblib\n",
    "\n",
    "# Load dataset\n",
    "data = {\n",
    "    'Password': [\n",
    "        'KeerthAna@121399', 'Laksh_ANA@001217', 'NiKhIlA__@#40091', 'Venu_GanTH@11140',\n",
    "        'V_G@11_00_14', 'KiR@((0921))', 'K@jan__92199', 'KG@04*25*2024', '2K_G_4_24_25',\n",
    "        'K!Gan@24#04&20^24', 'KiruJan@99921', 'Keerth@121399', 'Lak@1217shana', 'Nikhi_91002',\n",
    "        'Venu@11400000', 'Venu_ganth$114', 'kiruJGanth%4&25&2024', 'KG_kiruj&ganth', 'K_^G@2542024',\n",
    "        'venu&gan^$00!$', 'Keerthana&121399', 'keerth@Ana13', 'Keerth&&@#13', 'Lakshana&1217',\n",
    "        'Laksh^12$17', 'LakshanaKuha@121700', 'Nikhila#91002', 'Nikhi_LA@91002', 'Nicki91002$',\n",
    "        'nicKi20091#', 'AleX@23-05*1985', 'Ke3rtHi@131299#', 'MariA$17*08&92', 'JoHn!11$11*1990',\n",
    "        'SoPh!@30#04$2000', 'Keerthi@131299', 'pl@23Alex1985', 'Ma17@08ria92', 'Jo@hn11-1990',\n",
    "        'SoPhia#30-2000', 'alex2305', 'maria1708', 'sophia3004', 'john1111', 'keerthi1312'\n",
    "    ],\n",
    "    'Strength_Level': [\n",
    "        'Strong', 'Strong', 'Strong', 'Strong', 'Strong', 'Strong', 'Strong', 'Strong', 'Strong',\n",
    "        'Strong', 'Medium', 'Medium', 'Medium', 'Medium', 'Medium', 'Medium', 'Medium', 'Medium',\n",
    "        'Medium', 'Medium', 'Low', 'Low', 'Low', 'Low', 'Low', 'Low', 'Low', 'Low', 'Low', 'Low',\n",
    "        'Strong', 'Strong', 'Strong', 'Strong', 'Strong', 'Medium', 'Medium', 'Medium', 'Medium',\n",
    "        'Medium', 'Low', 'Low', 'Low', 'Low', 'Low'\n",
    "    ]\n",
    "}\n",
    "\n",
    "df = pd.DataFrame(data)\n",
    "\n",
    "# Encode the labels\n",
    "label_encoder = LabelEncoder()\n",
    "df['Strength_Level'] = label_encoder.fit_transform(df['Strength_Level'])\n",
    "\n",
    "# Create a pipeline with TfidfVectorizer and RandomForestClassifier\n",
    "model = make_pipeline(\n",
    "    TfidfVectorizer(analyzer='char', ngram_range=(1, 3)),\n",
    "    RandomForestClassifier(n_estimators=100)\n",
    ")\n",
    "\n",
    "# Train the model\n",
    "model.fit(df['Password'], df['Strength_Level'])\n",
    "\n",
    "# Save the model and label encoder\n",
    "joblib.dump(model, 'password_strength_model.joblib')\n",
    "joblib.dump(label_encoder, 'label_encoder.joblib')\n",
    "\n",
    "print(\"Model training complete and saved as 'password_strength_model.joblib' and 'label_encoder.joblib'\")\n",
    "\n",
    "# Function to predict password strength\n",
    "def predict_password_strength(password):\n",
    "    model = joblib.load('password_strength_model.joblib')\n",
    "    strength = model.predict([password])[0]\n",
    "    strength_map = {0: 'Low', 1: 'Medium', 2: 'Strong'}\n",
    "    return strength_map[strength]\n",
    "\n",
    "# Check the password\n",
    "if __name__ == \"__main__\":\n",
    "    password = input(\"Enter a password to check its strength: \")\n",
    "    strength = predict_password_strength(password)\n",
    "    print(f\"The password strength is: {strength}\")"
   ]
  }
 ],
 "metadata": {
  "kernelspec": {
   "display_name": "Python 3",
   "language": "python",
   "name": "python3"
  },
  "language_info": {
   "codemirror_mode": {
    "name": "ipython",
    "version": 3
   },
   "file_extension": ".py",
   "mimetype": "text/x-python",
   "name": "python",
   "nbconvert_exporter": "python",
   "pygments_lexer": "ipython3",
   "version": "3.12.0"
  }
 },
 "nbformat": 4,
 "nbformat_minor": 2
}
